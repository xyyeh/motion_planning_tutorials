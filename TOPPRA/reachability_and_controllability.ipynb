{
 "cells": [
  {
   "cell_type": "markdown",
   "metadata": {},
   "source": [
    "## Reachability\n",
    "The reachability problem is to \"find the set of all final states $x(t_1)$ **reachable** from a given initial state $x(t_0)$\". \n",
    "\n",
    "A state of a dynamical system $x(t_1)$ is reachable from the state $x(t_0)$ in the time interval $[t_0, t_1]$ if $\\exists~u(.) \\in \\mathit{U}$ such that $x(t_1) = f(t_0, t_1, x(t_0), u(.))$. Simply hink of this a how a single state can evolve in multiple of ways, subjected to the admissible control inputs and reaching some set of final state.\n",
    "\n",
    "## Controllability\n",
    "The controllability problem is the dual of the reachability problem. It is to \"find all the inital states $x(t_0)$ **controllable** to a given final state $x(t_1)$. A state $x(t_0)$ is controllable to state $x(t_1)$ if $\\exists~u(.) \\in \\mathit{U}$ such that $x(t_1) = f(t_0, t_1, x(t_0), u(.))$\n",
    "\n",
    "\n",
    "### Time invariance\n",
    "For time invariant system, we can take $t_0 = 0$ and $t_1 = t$.\n",
    "\n",
    "### Reference\n",
    "http://www.dii.unimo.it/~zanasi/didattica/Teoria_dei_Sistemi/Luc_TDS_ING_2016_Reachability_and_Controllability.pdf"
   ]
  },
  {
   "cell_type": "code",
   "execution_count": null,
   "metadata": {},
   "outputs": [],
   "source": []
  },
  {
   "cell_type": "code",
   "execution_count": null,
   "metadata": {},
   "outputs": [],
   "source": []
  }
 ],
 "metadata": {
  "kernelspec": {
   "display_name": "Python 3",
   "language": "python",
   "name": "python3"
  },
  "language_info": {
   "codemirror_mode": {
    "name": "ipython",
    "version": 3
   },
   "file_extension": ".py",
   "mimetype": "text/x-python",
   "name": "python",
   "nbconvert_exporter": "python",
   "pygments_lexer": "ipython3",
   "version": "3.6.9"
  }
 },
 "nbformat": 4,
 "nbformat_minor": 4
}
